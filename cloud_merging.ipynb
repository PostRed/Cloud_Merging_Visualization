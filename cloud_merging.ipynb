{
 "cells": [
  {
   "cell_type": "code",
   "execution_count": 1,
   "id": "02db4d1d-b754-42b8-80de-e7e96b6fddac",
   "metadata": {},
   "outputs": [],
   "source": [
    "# pip install open3d numpy"
   ]
  },
  {
   "cell_type": "code",
   "execution_count": 1,
   "id": "1ec36ced-a837-4c62-bacf-cd116d5d34ad",
   "metadata": {
    "tags": []
   },
   "outputs": [],
   "source": [
    "import open3d as o3d\n",
    "import numpy as np\n",
    "import time"
   ]
  },
  {
   "cell_type": "code",
   "execution_count": 2,
   "id": "78b3f28f-2bc9-4fec-87ef-d59ccfad1f72",
   "metadata": {
    "tags": []
   },
   "outputs": [],
   "source": [
    "def read_pcd(file_path: str):\n",
    "    pcd = o3d.io.read_point_cloud(file_path)\n",
    "    return pcd"
   ]
  },
  {
   "cell_type": "code",
   "execution_count": 3,
   "id": "7f0597e5-3ee9-4300-8f67-453e0cf9d931",
   "metadata": {
    "tags": []
   },
   "outputs": [],
   "source": [
    "def visualize_clouds(clouds: list, colors: list, picture_path: str) -> None:\n",
    "    vis = o3d.visualization.Visualizer()\n",
    "    vis.create_window()\n",
    "\n",
    "    for cloud, color in zip(clouds, colors):\n",
    "        cloud.paint_uniform_color(color)\n",
    "        vis.add_geometry(cloud)\n",
    "\n",
    "    vis.run()\n",
    "    vis.capture_screen_image(f'{picture_path}.png')\n",
    "    vis.destroy_window()"
   ]
  },
  {
   "cell_type": "code",
   "execution_count": 4,
   "id": "493d7c7f-92d8-4c8b-a4be-d3bdf3f206a5",
   "metadata": {
    "tags": []
   },
   "outputs": [],
   "source": [
    "red_color = [1, 0, 0]\n",
    "green_color = [0, 1, 0]\n",
    "blue_color = [0, 0, 1]\n",
    "violet_color = [1, 0, 1]"
   ]
  },
  {
   "cell_type": "code",
   "execution_count": 6,
   "id": "19c168b2-5215-43fc-88b4-9752aa279c49",
   "metadata": {},
   "outputs": [],
   "source": [
    "# Подбираем threshold для облаков на примере первых двух\n",
    "threshold = 0.01\n",
    "cloud9 = read_pcd('clouds/cloud_9.pcd')\n",
    "cloud12 = read_pcd('clouds/cloud_12.pcd')\n",
    "while threshold < 1:\n",
    "    reg_icp = o3d.pipelines.registration.registration_icp(\n",
    "        cloud9, cloud12, threshold,\n",
    "        np.eye(4),\n",
    "        o3d.pipelines.registration.TransformationEstimationPointToPoint()\n",
    "    )\n",
    "    transformation_icp = reg_icp.transformation\n",
    "    cloud9_transform = cloud9.transform(transformation_icp)\n",
    "    visualize_clouds([cloud12, cloud9_transform], [blue_color, green_color], f'pictures_thresholds1/cloud_{threshold}')\n",
    "    o3d.io.write_point_cloud(f'thresholds1/cloud_{threshold}.pcd', cloud9_transform, write_ascii=True)\n",
    "    threshold += 0.05\n",
    "# Лучше всего подошел 0.55"
   ]
  },
  {
   "cell_type": "code",
   "execution_count": 7,
   "id": "54f99458-9e41-4f5d-af20-c1eedce65608",
   "metadata": {},
   "outputs": [],
   "source": [
    "# Слияние двух облаков\n",
    "cloud9 = read_pcd('clouds/cloud_9.pcd')\n",
    "cloud12 = read_pcd('clouds/cloud_12.pcd')\n",
    "visualize_clouds([cloud9, cloud12], [red_color, blue_color], 'pictures_merged/clouds_9_12')"
   ]
  },
  {
   "cell_type": "code",
   "execution_count": 8,
   "id": "4353c4ab-637c-4598-ac2d-00ba9b9632c4",
   "metadata": {},
   "outputs": [],
   "source": [
    "threshold = 0.55\n",
    "reg_icp = o3d.pipelines.registration.registration_icp(\n",
    "        cloud9, cloud12, threshold,\n",
    "        np.eye(4),\n",
    "        o3d.pipelines.registration.TransformationEstimationPointToPoint()\n",
    "    )\n",
    "transformation_icp = reg_icp.transformation\n",
    "cloud9_transform = cloud9.transform(transformation_icp)\n",
    "visualize_clouds([read_pcd('clouds/cloud_9.pcd'), cloud12, cloud9_transform], [red_color, blue_color, green_color], 'pictures_merged/clouds_9_12_merged')\n",
    "merged_cloud = cloud12 + cloud9_transform"
   ]
  },
  {
   "cell_type": "code",
   "execution_count": 9,
   "id": "5899e69f-3435-49c7-a991-f207245d6845",
   "metadata": {
    "tags": []
   },
   "outputs": [],
   "source": [
    "visualize_clouds([merged_cloud], [violet_color], 'pictures_merged/clouds_9_12_result')\n",
    "o3d.io.write_point_cloud(\"thresholds_final/clouds_9_12.pcd\", merged_cloud, write_ascii=True)"
   ]
  },
  {
   "cell_type": "code",
   "execution_count": 10,
   "id": "a6120ab9-475d-4abf-b943-1fd76c9c12fe",
   "metadata": {
    "tags": []
   },
   "outputs": [],
   "source": [
    "# Теперь посмотрим подходит ли threshold = 0.55 для второй пары облаков\n",
    "cloud13 = read_pcd('clouds/cloud_13.pcd')\n",
    "cloud17 = read_pcd('clouds/cloud_17.pcd')\n",
    "visualize_clouds([cloud13, cloud17], [red_color, blue_color], 'pictures_merged/clouds_13_17')"
   ]
  },
  {
   "cell_type": "code",
   "execution_count": 11,
   "id": "44419ede-594b-4cde-b886-d9f75b750cf7",
   "metadata": {
    "tags": []
   },
   "outputs": [],
   "source": [
    "threshold = 0.55\n",
    "reg_icp = o3d.pipelines.registration.registration_icp(\n",
    "        cloud13, cloud17, threshold,\n",
    "        np.eye(4),\n",
    "        o3d.pipelines.registration.TransformationEstimationPointToPoint()\n",
    "    )\n",
    "transformation_icp = reg_icp.transformation\n",
    "cloud13_transform = cloud13.transform(transformation_icp)\n",
    "visualize_clouds([read_pcd('clouds/cloud_13.pcd'), cloud17, cloud13_transform], [red_color, blue_color, green_color], 'pictures_merged/clouds_13_17_merged')\n",
    "merged_cloud = cloud17 + cloud13_transform\n",
    "# как видно по картинке threshold подошел"
   ]
  },
  {
   "cell_type": "code",
   "execution_count": 12,
   "id": "f43cceb9-acf1-4a21-852b-fd426d122496",
   "metadata": {
    "tags": []
   },
   "outputs": [],
   "source": [
    "visualize_clouds([merged_cloud], [violet_color], 'pictures_merged/clouds_13_17_result')\n",
    "o3d.io.write_point_cloud(\"thresholds_final/clouds_13_17.pcd\", merged_cloud, write_ascii=True)"
   ]
  },
  {
   "cell_type": "code",
   "execution_count": 13,
   "id": "0812b810-f1f9-425c-8b11-0dc4f0708501",
   "metadata": {
    "tags": []
   },
   "outputs": [],
   "source": [
    "# И повторим все для двух результатов слияния\n",
    "cloud1 = read_pcd('thresholds_final/clouds_13_17.pcd')\n",
    "cloud2 = read_pcd('thresholds_final/clouds_9_12.pcd')\n",
    "visualize_clouds([cloud1, cloud2], [red_color, blue_color], 'pictures_merged/clouds_all')"
   ]
  },
  {
   "cell_type": "code",
   "execution_count": 14,
   "id": "fbfed247-5fc0-4f8b-9cc8-1bc4c8485641",
   "metadata": {
    "tags": []
   },
   "outputs": [],
   "source": [
    "threshold = 0.55\n",
    "reg_icp = o3d.pipelines.registration.registration_icp(\n",
    "        cloud1, cloud2, threshold,\n",
    "        np.eye(4),\n",
    "        o3d.pipelines.registration.TransformationEstimationPointToPoint()\n",
    "    )\n",
    "transformation_icp = reg_icp.transformation\n",
    "cloud1_transform = cloud1.transform(transformation_icp)\n",
    "visualize_clouds([read_pcd('thresholds_final/clouds_13_17.pcd'), cloud2, cloud1_transform], [red_color, blue_color, green_color], 'pictures_merged/clouds_all_merged')\n",
    "merged_cloud = cloud2 + cloud1_transform"
   ]
  },
  {
   "cell_type": "code",
   "execution_count": 15,
   "id": "f2cf0601-6f66-4cfc-916d-ca238d9ce049",
   "metadata": {
    "tags": []
   },
   "outputs": [
    {
     "name": "stdout",
     "output_type": "stream",
     "text": [
      "\u001b[1;33m[Open3D WARNING] GLFW Error: Cocoa: Failed to find service port for display\u001b[0;m\n"
     ]
    },
    {
     "data": {
      "text/plain": [
       "True"
      ]
     },
     "execution_count": 15,
     "metadata": {},
     "output_type": "execute_result"
    }
   ],
   "source": [
    "visualize_clouds([merged_cloud], [violet_color], 'pictures_merged/clouds_all_result')\n",
    "o3d.io.write_point_cloud(\"thresholds_final/clouds_all.pcd\", merged_cloud, write_ascii=True)"
   ]
  },
  {
   "cell_type": "code",
   "execution_count": 5,
   "id": "988cb86e-6aa6-41b2-b3b1-de8af5592f6d",
   "metadata": {
    "tags": []
   },
   "outputs": [
    {
     "name": "stdout",
     "output_type": "stream",
     "text": [
      "\u001b[1;33m[Open3D WARNING] GLFW Error: Cocoa: Failed to find service port for display\u001b[0;m\n"
     ]
    }
   ],
   "source": [
    "# И ради интереса выведем все облака вместе до слияния\n",
    "visualize_clouds([\n",
    "    read_pcd('clouds/cloud_9.pcd'), \n",
    "    read_pcd('clouds/cloud_12.pcd'), \n",
    "    read_pcd('clouds/cloud_13.pcd'), \n",
    "    read_pcd('clouds/cloud_17.pcd')], \n",
    "    [red_color, green_color, blue_color, violet_color], \n",
    "    'pictures_merged/clouds_all_before_result')"
   ]
  },
  {
   "cell_type": "code",
   "execution_count": null,
   "id": "23ba6b51-a9b7-433b-8188-f7055482890d",
   "metadata": {},
   "outputs": [],
   "source": []
  }
 ],
 "metadata": {
  "kernelspec": {
   "display_name": "Python 3 (ipykernel)",
   "language": "python",
   "name": "python3"
  },
  "language_info": {
   "codemirror_mode": {
    "name": "ipython",
    "version": 3
   },
   "file_extension": ".py",
   "mimetype": "text/x-python",
   "name": "python",
   "nbconvert_exporter": "python",
   "pygments_lexer": "ipython3",
   "version": "3.10.9"
  }
 },
 "nbformat": 4,
 "nbformat_minor": 5
}
